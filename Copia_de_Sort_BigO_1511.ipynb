{
  "nbformat": 4,
  "nbformat_minor": 0,
  "metadata": {
    "colab": {
      "name": "Copia de Sort_BigO_1511.ipynb",
      "provenance": [],
      "authorship_tag": "ABX9TyP5AbrbVHdJeO8mih+z1fSi",
      "include_colab_link": true
    },
    "kernelspec": {
      "name": "python3",
      "display_name": "Python 3"
    },
    "language_info": {
      "name": "python"
    }
  },
  "cells": [
    {
      "cell_type": "markdown",
      "metadata": {
        "id": "view-in-github",
        "colab_type": "text"
      },
      "source": [
        "<a href=\"https://colab.research.google.com/github/Davidips/Dise-o-y-Analisis-de-Algoritmos/blob/main/Copia_de_Sort_BigO_1511.ipynb\" target=\"_parent\"><img src=\"https://colab.research.google.com/assets/colab-badge.svg\" alt=\"Open In Colab\"/></a>"
      ]
    },
    {
      "cell_type": "code",
      "metadata": {
        "id": "6lTh0PzhJLOm"
      },
      "source": [
        "\n",
        "#info = [8,5,9,3]\n",
        "info = [6568,84,84,94,4,45,54,35,61,654,54,65]\n",
        "#range(<inicio>,<stop>,<incremento>)\n",
        "#range (3,0,-1)\n",
        "\n",
        "\n",
        "def burbuja (data):   #M O(n)   P  O(1)\n",
        "  tam= len (data)     #M  O (1)   P  O(1)\n",
        "  for tope in range (n-1,0,-1):\n",
        "    for pivote in range(tope):\n",
        "      if data[pivote]>data[pivote +1]:\n",
        "        data[pivote],data[pivote +1] = data[pivote+1],data[pivote]\n",
        "  \n",
        "   \n",
        "\n",
        "  return data\n",
        "\n",
        "burbuja(info)\n",
        "\n",
        "\n",
        "\n",
        "#M ON (340)  P O(15)\n",
        "#M O(n)   p O(3Nn-2)"
      ],
      "execution_count": null,
      "outputs": []
    },
    {
      "cell_type": "code",
      "metadata": {
        "colab": {
          "base_uri": "https://localhost:8080/"
        },
        "id": "r8sd-JCAWv56",
        "outputId": "7c611e4a-8971-445f-eec1-c3559b8a8332"
      },
      "source": [
        "def selection_sort(data):\n",
        "  for pivote in range(len(data)):\n",
        "    min = pivote\n",
        "    for index in range (pivote , len (data),1):\n",
        "      if data[index]< data[min]:\n",
        "        min = index\n",
        "    data[pivote],data[min] = data[min],data[pivote]\n",
        "    print(f\"-->{data}<--\")\n",
        "  return data\n",
        "\n",
        "\n",
        "info = [8,5,9,3]\n",
        "print(selection_sort(info))"
      ],
      "execution_count": null,
      "outputs": [
        {
          "output_type": "stream",
          "name": "stdout",
          "text": [
            "-->[3, 5, 9, 8]<--\n",
            "-->[3, 5, 9, 8]<--\n",
            "-->[3, 5, 8, 9]<--\n",
            "-->[3, 5, 8, 9]<--\n",
            "[3, 5, 8, 9]\n"
          ]
        }
      ]
    },
    {
      "cell_type": "code",
      "metadata": {
        "id": "MH4xTcYT7LbN"
      },
      "source": [
        "def insertion_sort(data): #M O(n)    P O (1)\n",
        "  print (f\"original{data}\") #M O(O)    P O (1)\n",
        "  #toda la logica de insertion sort\" \n",
        "  for pivote in range (1,len(data),1): #M O(1)    P O (na)\n",
        "    for index in range(0,pivote+1,1): #M O(1)    P O (na)\n",
        "      if data[pivote]<data[index]: #M O(O)    P O (na)\n",
        "        tmp=data[pivote] #M O(1)    P O (n)\n",
        "        #recorrer a la derecha  \n",
        "        for i in range (pivote,index ,-1): #M O(1)    P O (na)\n",
        "          data[i]=data[i-1] #M O(O)    P O (n)\n",
        "        data[index]= tmp #M O(O)    P O (n)\n",
        "      print(f\"pasada{pivote}-->{data}<--\") #M O(O)    P O (1)\n",
        "  return data #M O(0)    P O (1)\n",
        "#M  O (n+3)    P  O (4+n+n*m)\n",
        "\n",
        "info = [10,51,2,18,4,31,12,5]\n",
        "\n",
        "\n",
        "print(insertion_sort(info))"
      ],
      "execution_count": null,
      "outputs": []
    },
    {
      "cell_type": "code",
      "metadata": {
        "id": "mBkyac8wtqOe"
      },
      "source": [
        "def mergeSort(data):  #M O(0)     P( O(1)\n",
        "    tam = len(data)  #M O(1)     P  O(1)\n",
        "    if tam == 1: #caso base de la recursividad #M O(0)     PO (n)\n",
        "        return data #M  O(0)   P O(1)\n",
        "\n",
        "    mid = tam // 2 #M  O(1)   P O(2)\n",
        "    I = mergeSort(data[0:mid:1]) #M  O(0)   P O((log n)/2)\n",
        "    D = mergeSort(data[mid: :1]) #M  O()   P O()\n",
        "    #print(f\"{I}\\t\\t {D}\")\n",
        "    return merge(I,D) #M  O()   P O()\n",
        "\n",
        "def merge(I,D):\n",
        "    resultado= [0] * (len(I) + len(D))\n",
        "    i = 0\n",
        "    d = 0\n",
        "    r = 0\n",
        "    while i < len(I) and d < len(D):\n",
        "        if I[i] < D[d]:\n",
        "            resultado [r]= I[i] \n",
        "            i += 1\n",
        "        else:\n",
        "            resultado [r]= D[d]\n",
        "            d += 1\n",
        "        r += 1\n",
        "    while i<len(I):\n",
        "        resultado[r] = I[i]\n",
        "        i += 1\n",
        "        r += 1\n",
        "    while d<len(D):\n",
        "        resultado[r] = D[d]\n",
        "        d += 1\n",
        "        r += 1\n",
        "    return resultado\n",
        "\n",
        "   #procesar los faltantes"
      ],
      "execution_count": 1,
      "outputs": []
    },
    {
      "cell_type": "code",
      "metadata": {
        "id": "C9qf8YSLzSyK",
        "colab": {
          "base_uri": "https://localhost:8080/"
        },
        "outputId": "af2d255e-2de2-4e07-94f4-f0250440ef28"
      },
      "source": [
        "numeros = [10,51,2,18,4,31,12,5]\n",
        "print(mergeSort(numeros))\n",
        "\n",
        "números = [8,4,10,3,20,18,12,15]\n",
        "print(mergeSort(numeros))"
      ],
      "execution_count": 3,
      "outputs": [
        {
          "output_type": "stream",
          "name": "stdout",
          "text": [
            "[2, 4, 5, 10, 12, 18, 31, 51]\n",
            "[2, 4, 5, 10, 12, 18, 31, 51]\n"
          ]
        }
      ]
    },
    {
      "cell_type": "code",
      "metadata": {
        "id": "6oBSEEGIxYNz",
        "colab": {
          "base_uri": "https://localhost:8080/"
        },
        "outputId": "ae346032-0644-4d21-d6a1-681322b4eb96"
      },
      "source": [
        "frutas = ['peras' , 'manzanas', 'kiwi' ,'limón','aguacates','uva','sandia']\n",
        "print(frutas)\n",
        "#silicing sirve para sacar rebanadas de un iterable\n",
        "#frutas [<ini>: <stop>: <incremento>]\n",
        "#nots: el stock no se incluye , se incluye el valor previo\n",
        "\n",
        "print(frutas [0:3:1])\n",
        "print(frutas [2:6:1])\n",
        "print(len(frutas))\n",
        "mid = len (frutas) // 2\n",
        "print (mid)\n",
        "print(frutas[0:mid:1])\n",
        "print(frutas[mid: :1])"
      ],
      "execution_count": null,
      "outputs": [
        {
          "output_type": "stream",
          "name": "stdout",
          "text": [
            "['peras', 'manzanas', 'kiwi', 'limón', 'aguacates', 'uva', 'sandia']\n",
            "['peras', 'manzanas', 'kiwi']\n",
            "['kiwi', 'limón', 'aguacates', 'uva']\n",
            "7\n",
            "3\n",
            "['peras', 'manzanas', 'kiwi']\n",
            "['limón', 'aguacates', 'uva', 'sandia']\n"
          ]
        }
      ]
    },
    {
      "cell_type": "code",
      "metadata": {
        "id": "GC2TzF7310Gi",
        "colab": {
          "base_uri": "https://localhost:8080/"
        },
        "outputId": "0963dd8b-d521-463b-8863-9db6b5b7cd76"
      },
      "source": [
        "I = [2,8]\n",
        "D = [3,22]\n",
        "resultado = [0] *4\n",
        "print(resultado)"
      ],
      "execution_count": null,
      "outputs": [
        {
          "output_type": "stream",
          "name": "stdout",
          "text": [
            "[0, 0, 0, 0]\n"
          ]
        }
      ]
    },
    {
      "cell_type": "markdown",
      "metadata": {
        "id": "IfqhKrCetqq1"
      },
      "source": [
        ""
      ]
    }
  ]
}