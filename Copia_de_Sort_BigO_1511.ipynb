{
  "nbformat": 4,
  "nbformat_minor": 0,
  "metadata": {
    "colab": {
      "name": "Copia de Sort_BigO_1511.ipynb",
      "provenance": [],
      "authorship_tag": "ABX9TyPm5QskaVk2ORIaamqibc/a",
      "include_colab_link": true
    },
    "kernelspec": {
      "name": "python3",
      "display_name": "Python 3"
    },
    "language_info": {
      "name": "python"
    }
  },
  "cells": [
    {
      "cell_type": "markdown",
      "metadata": {
        "id": "view-in-github",
        "colab_type": "text"
      },
      "source": [
        "<a href=\"https://colab.research.google.com/github/Davidips/Dise-o-y-Analisis-de-Algoritmos/blob/main/Copia_de_Sort_BigO_1511.ipynb\" target=\"_parent\"><img src=\"https://colab.research.google.com/assets/colab-badge.svg\" alt=\"Open In Colab\"/></a>"
      ]
    },
    {
      "cell_type": "code",
      "metadata": {
        "id": "6lTh0PzhJLOm"
      },
      "source": [
        "\n",
        "#info = [8,5,9,3]\n",
        "info = [6568,84,84,94,4,45,54,35,61,654,54,65]\n",
        "#range(<inicio>,<stop>,<incremento>)\n",
        "#range (3,0,-1)\n",
        "\n",
        "\n",
        "def burbuja (data):   #M O(n)   P  O(1)\n",
        "  tam= len (data)     #M  O (1)   P  O(1)\n",
        "  for tope in range (n-1,0,-1):\n",
        "    for pivote in range(tope):\n",
        "      if data[pivote]>data[pivote +1]:\n",
        "        data[pivote],data[pivote +1] = data[pivote+1],data[pivote]\n",
        "  \n",
        "   \n",
        "\n",
        "  return data\n",
        "\n",
        "burbuja(info)\n",
        "\n",
        "\n",
        "\n",
        "#M ON (340)  P O(15)\n",
        "#M O(n)   p O(3Nn-2)"
      ],
      "execution_count": null,
      "outputs": []
    },
    {
      "cell_type": "code",
      "metadata": {
        "colab": {
          "base_uri": "https://localhost:8080/"
        },
        "id": "r8sd-JCAWv56",
        "outputId": "7c611e4a-8971-445f-eec1-c3559b8a8332"
      },
      "source": [
        "def selection_sort(data):\n",
        "  for pivote in range(len(data)):\n",
        "    min = pivote\n",
        "    for index in range (pivote , len (data),1):\n",
        "      if data[index]< data[min]:\n",
        "        min = index\n",
        "    data[pivote],data[min] = data[min],data[pivote]\n",
        "    print(f\"-->{data}<--\")\n",
        "  return data\n",
        "\n",
        "\n",
        "info = [8,5,9,3]\n",
        "print(selection_sort(info))"
      ],
      "execution_count": null,
      "outputs": [
        {
          "output_type": "stream",
          "name": "stdout",
          "text": [
            "-->[3, 5, 9, 8]<--\n",
            "-->[3, 5, 9, 8]<--\n",
            "-->[3, 5, 8, 9]<--\n",
            "-->[3, 5, 8, 9]<--\n",
            "[3, 5, 8, 9]\n"
          ]
        }
      ]
    },
    {
      "cell_type": "code",
      "metadata": {
        "id": "MH4xTcYT7LbN"
      },
      "source": [
        "def insertion_sort(data): #M O(n)    P O (1)\n",
        "  print (f\"original{data}\") #M O(O)    P O (1)\n",
        "  #toda la logica de insertion sort\" \n",
        "  for pivote in range (1,len(data),1): #M O(1)    P O (na)\n",
        "    for index in range(0,pivote+1,1): #M O(1)    P O (na)\n",
        "      if data[pivote]<data[index]: #M O(O)    P O (na)\n",
        "        tmp=data[pivote] #M O(1)    P O (n)\n",
        "        #recorrer a la derecha  \n",
        "        for i in range (pivote,index ,-1): #M O(1)    P O (na)\n",
        "          data[i]=data[i-1] #M O(O)    P O (n)\n",
        "        data[index]= tmp #M O(O)    P O (n)\n",
        "      print(f\"pasada{pivote}-->{data}<--\") #M O(O)    P O (1)\n",
        "  return data #M O(0)    P O (1)\n",
        "#M  O (n+3)    P  O (4+n+n*m)\n",
        "\n",
        "info = [10,51,2,18,4,31,12,5]\n",
        "\n",
        "\n",
        "print(insertion_sort(info))"
      ],
      "execution_count": null,
      "outputs": []
    }
  ]
}